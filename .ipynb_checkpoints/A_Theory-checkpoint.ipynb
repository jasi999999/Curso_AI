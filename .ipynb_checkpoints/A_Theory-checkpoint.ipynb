{
 "cells": [
  {
   "cell_type": "markdown",
   "id": "ae62ab2c-88eb-4041-83cf-7a0a78a92ca7",
   "metadata": {},
   "source": [
    "# D. E. U. en Inteligencia Artificial de Samsung Innovation Campus (Theory)\n",
    "\n",
    "- Andrés y Salvador (Numpy)\n",
    "- **Mayúsc + Tab**: shows the help of the function, in addition to the `help()` function.\n",
    "- **Esc -> M**: changes the cell to Markdown (**Y** to change to Code)\n",
    "- **TAB MUST BE USED**"
   ]
  },
  {
   "cell_type": "markdown",
   "id": "db2a631c-29b2-44cc-b39a-509709c042fb",
   "metadata": {
    "jp-MarkdownHeadingCollapsed": true
   },
   "source": [
    "# Chapter 1. Introduction"
   ]
  },
  {
   "cell_type": "markdown",
   "id": "0a72be6d-5eed-402d-9dc8-a036c245bba7",
   "metadata": {},
   "source": [
    "- Cesar Ferri (cferri@dsic.upv.es)"
   ]
  },
  {
   "cell_type": "markdown",
   "id": "fcc1aff7-3f21-4442-97f7-539cc2b2d56c",
   "metadata": {},
   "source": [
    "# Chapter 3. Numpy and Pandas (Optimized Numerical Computation)"
   ]
  },
  {
   "cell_type": "markdown",
   "id": "3f878562-3e28-4bec-9f39-8bd8501d0607",
   "metadata": {},
   "source": [
    "## Unit 1. Numpy Array Data Structure for Optimal Computational Performance"
   ]
  },
  {
   "cell_type": "markdown",
   "id": "a1101724-7e5d-4577-804c-8de0f67e1876",
   "metadata": {},
   "source": [
    "- Memory is **expensive**: Numpy is implemented in C fro maximum **optimization**.\n",
    "- Data and algorithms: **finding data** is important, it can be speedy but at a **memory cost**. In addition, **allocationg data** increases the difficulty of the problem.\n",
    "- **Numpy**: implemented on C, uses **element-by-element operations**. If\n",
    "- **Array DataType**: created as `np.array([n, n, ...])`, books the memory, \"learns\" that it is an *Integer* array. Identical objects will have different locations in memory. Comparing two-array objects, returns a new array with a comparison of every single object one by one; because of **element-by-element operations**.**`ndarray`** means **n-dimensional array**. Uses **32-bit integers**. Do not use dictionaries or sets inside an array. Use array to implement lists made of lists as matrixes. Runs through a mtrix through rows. It has **type inferring** which works very well to **prevent memory waste**.\n",
    "- **Copying and array**: copying but can define the way in which the copy will be **allocated in memory** (columns, rows, ...). **Making copies uses more memory and gives more cost than creating a new one**. So, only use copy when you need to modify the previous object and still retain the original. Do **not use copies when you are not modifying** the object.\n",
    "- **Memory usage**: if there is a string array, when a long list made of small words has a very long word, every *box* will be as big as the longest word, therefore **wasting memory space**. Also the **data type can create waste (such us saving numbers as strings)**.\n",
    "- Function **np.array(lista)**: turns list into an array.\n",
    "- Function **np.zeros(n)**, **np.ones(n)**: returns an array built with zeros.\n",
    "- Function **arr.shape**: returns a matrix-like definition of the object, indicating the number of elements in rows and columns.\n",
    "- Funciton **arr.dtype**: returns the inferred type of the object or **object when it cannot identify**, such us dictionaries, big numbers, sets, ... \n",
    "- Function **np.arange(n)**: similar to range, start, stop, step, datatype, ... Difference: it **does allocate the memory selected** and can use decimals.\n",
    "- Function **len(array)**: returns length of the object (if you where to loop it, **how many times in loop you would need**), **the number of rows**.\n",
    "- Function **array.size**: returns the number of elements (*columns x rows x depth*).\n",
    "- Function **array.itemsize**: returns byte size of *one element*.\n",
    "- Function **array.nbytes**: returns all bytes occupied by the whole array (*size x itemsize*).\n",
    "- Function **array.ndim**: returns the number of **dimensions** of the object.\n",
    "- Function **ndarray.view(encoding)**: shows a matrix as if it had a different enconding, **but it is not the same as actually have the data with the different enconding** (sometimes can be even useless).\n",
    "- Function **np.linspace(start, stop, n_elements)**: returns an array of n_numbers equally separated from one another in **linear** scale.\n",
    "- Function **np.geomspace**: returns an array of n_numbers equally separated from one another in **logarithmic** scale.\n",
    "- Function **np.logspace**: returns an array of n_numbers equally separated from one another in **powers of ten in linear scale**.\n",
    "- Numpy array **indexing**: similar to *List Datatype*, with slicing and all. **Be careful when manipulating arrays, as slicing DOES NOT CREATE A COPY such us with *List Datatype***. Be careful also using **ndarray.view(encoding)** function. **Matrix manipulation**: **WILL PROBABLY AFFECT MEMORY ALLOCATION**, in addition, when deleting a big matrix, might be interesting to create new matrixes of the smaller matrixes that shares memory with, as **MEMORY WILL NOT BE FREED UNTIL THE WHOLE CHUNK IS COMPLETELY FREE** (check **np.copy()**).\n",
    "- Function **array.item()**: allows acces to an **array-object**, such a dictionary inside an array.\n",
    "- Function **array.astype(type)**: receives an array and changes its type.\n",
    "- Function **array.reshape()**: returns an array with a different shape, **does not modify original**.\n",
    "- Function **np.shares_memory(element_1, element_2)**: returns bool of possible interesection within memory.\n",
    "- Function **del array**: deletes an array."
   ]
  },
  {
   "cell_type": "code",
   "execution_count": 77,
   "id": "c28a362b-514a-4ca4-b296-63f42e5d7f43",
   "metadata": {},
   "outputs": [
    {
     "name": "stdout",
     "output_type": "stream",
     "text": [
      "1.26.4\n",
      "2224038853296\n",
      "[0 1 2 3 4 5] <class 'numpy.ndarray'> None\n",
      "2224035784400\n",
      "[0 1 2 3 4 5] <class 'numpy.ndarray'> None\n",
      "[ True  True  True  True  True  True]\n",
      "[0 1 2 3 4 5] 0 <class 'numpy.int32'>\n",
      "{'one': 1, 'two': 2, 'three': 3} array({'one': 1, 'two': 2, 'three': 3}, dtype=object)\n",
      "(6,) ()\n",
      "int32 dtype('int32') dtype('O')\n",
      "\n",
      "[1 1 1 1 1 1] [1. 1. 1. 1. 1. 1.]\n",
      "\n",
      "This array has 2 dimensions\n",
      "[[1 2 3]\n",
      " [4 5 6]] (2, 3)\n",
      "[ 0  1  2  3  4  5  6  7  8  9 10 11 12 13 14]\n",
      "[[ 0  1  2  3  4]\n",
      " [ 5  6  7  8  9]\n",
      " [10 11 12 13 14]]\n",
      "\n",
      "384 36\n",
      "\n",
      "[  0   0   0 117   0   0   0 110   0   0   0 111   0   0   0   0   0   0\n",
      "   0 100   0   0   0 111   0   0   0 115   0   0   0   0   0   0   0 116\n",
      "   0   0   0 114   0   0   0 101   0   0   0 115]\n",
      "[117 110 111   0 100 111 115   0 116 114 101 115]\n",
      "\n",
      "[ 0.   2.5  5.   7.5 10. ]\n",
      "[1.e+00 1.e+01 1.e+02 1.e+03 1.e+04]\n",
      "[   1.   10.  100. 1000.]\n",
      "\n",
      "[[ 0  1  2  3  4]\n",
      " [ 5  6  7  8  9]\n",
      " [10 11 12 13 14]]\n",
      "\n",
      "True\n",
      "\n",
      "[[ 0  1  2  3  4  5  6  7  8  9]\n",
      " [10 11 12 13 14 15 16 17 18 19]\n",
      " [20 21 22 23 24 25 26 27 28 29]\n",
      " [30 31 32 33 34 35 36 37 38 39]\n",
      " [40 41 42 43 44 45 46 47 48 49]\n",
      " [50 51 52 53 54 55 56 57 58 59]\n",
      " [60 61 62 63 64 65 66 67 68 69]]\n",
      "[[ 0  1  2  3  4  5  6  7  8  9 10 11 12 13]\n",
      " [14 15 16 17 18 19 20 21 22 23 24 25 26 27]\n",
      " [28 29 30 31 32 33 34 35 36 37 38 39 40 41]\n",
      " [42 43 44 45 46 47 48 49 50 51 52 53 54 55]\n",
      " [56 57 58 59 60 61 62 63 64 65 66 67 68 69]]\n"
     ]
    }
   ],
   "source": [
    "import numpy as np\n",
    "\n",
    "print(np.__version__)\n",
    "a1 = np.array([0, 1, 2, 3, 4, 5])\n",
    "print(a1, type(a1), print(id(a1)))\n",
    "a2 = np.array(range(6))\n",
    "print(a2, type(a2), print(id(a2)))\n",
    "print(a1 == a2)\n",
    "a3 = np.copy(a1, order='K')\n",
    "print(a3, a3[0], type(a3[0]))\n",
    "a4 = np.array({'one': 1, 'two': 2, 'three': 3})\n",
    "print(a4, repr(a4))\n",
    "print(a1.shape, a4.shape)                                           # Returns a tuple with a matrix-like information\n",
    "print(a1.dtype, repr(a2.dtype), repr(a4.dtype), end = '\\n\\n')\n",
    "\n",
    "a5 = np.ones(6, dtype='int32')\n",
    "a6 = np.ones(6)\n",
    "print(a5, a6, end = '\\n\\n')\n",
    "\n",
    "m1 = np.array([[1, 2, 3], [4, 5, 6]])\n",
    "print(f'This array has {m1.ndim} dimensions')\n",
    "print(m1, m1.shape)                                   # Length is the first dimension\n",
    "m2 = np.arange(15)\n",
    "m3 = np.copy(m2)\n",
    "m3.shape=(3, 5)\n",
    "print(m2, m3, sep='\\n', end = '\\n\\n')\n",
    "\n",
    "a7 = np.array([111, 2.3, 'hi'])\n",
    "a8 = np.array(['111', '2.3', 'hi'])\n",
    "print(a7.nbytes, a8.nbytes, end = '\\n\\n')                           # Clear example that saving numbers as strings can waste a ton of space\n",
    "\n",
    "# Example of how a lot of memory can be wasted within the \"data type\" selection\n",
    "print(np.array(['uno', 'dos', 'tres'], dtype='>U4').view('uint8'))\n",
    "print(np.array(['uno', 'dos', 'tres'], dtype='|S4').view('uint8'), end = '\\n\\n')\n",
    "\n",
    "print(np.linspace(0, 10, num=5))\n",
    "print(np.geomspace(1, 10000, num=5))\n",
    "print(np.logspace(0, 3, num=4), end = '\\n\\n')\n",
    "\n",
    "a9 = np.arange(15).reshape(3, 5)\n",
    "print(a9, end = '\\n\\n')\n",
    "\n",
    "a10 = np.array([10, 20, 30])\n",
    "a11 = a10[:]\n",
    "print(np.shares_memory(a10, a11), end = '\\n\\n')\n",
    "\n",
    "a12 = np.arange(70).reshape(7, -1)     # Asks for a reshape in 7 rows and whatever columns\n",
    "print(a12)\n",
    "print(a12.reshape(5, -1))"
   ]
  },
  {
   "cell_type": "markdown",
   "id": "3499b49f-56f9-404f-9450-01417c56f779",
   "metadata": {},
   "source": [
    "## Unit 2. Optimal Data Exploration Through Pandas"
   ]
  },
  {
   "cell_type": "code",
   "execution_count": null,
   "id": "a1becc2b-e719-4258-b2f4-5f2cf88f31ba",
   "metadata": {},
   "outputs": [],
   "source": []
  },
  {
   "cell_type": "markdown",
   "id": "7e32c5fc-0f00-4512-a36d-6d1f82b542a9",
   "metadata": {
    "jp-MarkdownHeadingCollapsed": true
   },
   "source": [
    "## Unit 3. Pandas Data Preprocessing for Optimal Model Execution"
   ]
  },
  {
   "cell_type": "code",
   "execution_count": null,
   "id": "627c1198-c9c3-4f41-b632-1dd0940a50fd",
   "metadata": {},
   "outputs": [],
   "source": []
  },
  {
   "cell_type": "markdown",
   "id": "8cf072da-9c48-40cf-b5f8-0fce7064ed29",
   "metadata": {
    "jp-MarkdownHeadingCollapsed": true
   },
   "source": [
    "## Unit 4. Data Visualization for Various Data Scales"
   ]
  },
  {
   "cell_type": "code",
   "execution_count": null,
   "id": "baf0bd97-5c56-496d-a566-e1655c17c520",
   "metadata": {},
   "outputs": [],
   "source": []
  },
  {
   "cell_type": "markdown",
   "id": "35135fb7-8f2b-48cc-b77d-266a658a8d5b",
   "metadata": {},
   "source": [
    "# Chapter 2. "
   ]
  },
  {
   "cell_type": "code",
   "execution_count": null,
   "id": "19fc1746-e795-47bc-bbf3-e2460e0175f9",
   "metadata": {},
   "outputs": [],
   "source": []
  }
 ],
 "metadata": {
  "kernelspec": {
   "display_name": "Python [conda env:base] *",
   "language": "python",
   "name": "conda-base-py"
  },
  "language_info": {
   "codemirror_mode": {
    "name": "ipython",
    "version": 3
   },
   "file_extension": ".py",
   "mimetype": "text/x-python",
   "name": "python",
   "nbconvert_exporter": "python",
   "pygments_lexer": "ipython3",
   "version": "3.12.7"
  }
 },
 "nbformat": 4,
 "nbformat_minor": 5
}
